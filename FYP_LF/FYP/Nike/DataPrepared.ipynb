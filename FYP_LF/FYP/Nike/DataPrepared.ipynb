{
 "cells": [
  {
   "cell_type": "code",
   "execution_count": 1,
   "id": "f6e54525-3cf2-4ea9-a9c0-515d83358de9",
   "metadata": {},
   "outputs": [],
   "source": [
    "import numpy as np\n",
    "import pandas as pd\n",
    "import matplotlib.pyplot as plt\n",
    "import statistics \n",
    "import seaborn as sns\n",
    "import scipy.stats as stats\n",
    "import plotly.graph_objects as go\n",
    "import plotly.express as px\n",
    "sns.set(rc={'figure.figsize':(11, 4)})\n",
    "from scipy import stats\n",
    "from numpy import asarray\n",
    "from pandas import read_csv\n",
    "from pandas import DataFrame\n",
    "from pandas import concat\n",
    "from matplotlib import pyplot\n",
    "from mlxtend.plotting import plot_decision_regions"
   ]
  },
  {
   "cell_type": "code",
   "execution_count": 2,
   "id": "a7e76c03-590d-4ef2-8d57-d3caf4a1e88d",
   "metadata": {},
   "outputs": [
    {
     "data": {
      "text/plain": [
       "(1815689, 22)"
      ]
     },
     "execution_count": 2,
     "metadata": {},
     "output_type": "execute_result"
    }
   ],
   "source": [
    "nike = pd.read_csv(\"outbound_hkg_nike.csv\")\n",
    "nike.shape"
   ]
  },
  {
   "cell_type": "code",
   "execution_count": 3,
   "id": "74372e56-f13d-4a18-bc87-1d73eef1b98b",
   "metadata": {},
   "outputs": [
    {
     "data": {
      "text/plain": [
       "region                     0\n",
       "dbid                       0\n",
       "deliverydate               0\n",
       "storerkey                  0\n",
       "company                    0\n",
       "CustomerGroupName          0\n",
       "MarketSegment              0\n",
       "CountryOfOrigin      1815689\n",
       "containertype        1815689\n",
       "facility                   0\n",
       "descr                      0\n",
       "orderkey                   0\n",
       "sku                        0\n",
       "descr.1                    0\n",
       "skugroup                   0\n",
       "style                      0\n",
       "class                      0\n",
       "size                       0\n",
       "uom                        0\n",
       "shippedqty                 0\n",
       "cube                       0\n",
       "weight                     0\n",
       "dtype: int64"
      ]
     },
     "execution_count": 3,
     "metadata": {},
     "output_type": "execute_result"
    }
   ],
   "source": [
    "nike.isnull().sum()"
   ]
  },
  {
   "cell_type": "code",
   "execution_count": 4,
   "id": "022d2c32-d055-4cf5-aaf3-9b24584c6184",
   "metadata": {},
   "outputs": [
    {
     "data": {
      "text/html": [
       "<div>\n",
       "<style scoped>\n",
       "    .dataframe tbody tr th:only-of-type {\n",
       "        vertical-align: middle;\n",
       "    }\n",
       "\n",
       "    .dataframe tbody tr th {\n",
       "        vertical-align: top;\n",
       "    }\n",
       "\n",
       "    .dataframe thead th {\n",
       "        text-align: right;\n",
       "    }\n",
       "</style>\n",
       "<table border=\"1\" class=\"dataframe\">\n",
       "  <thead>\n",
       "    <tr style=\"text-align: right;\">\n",
       "      <th></th>\n",
       "      <th>deliverydate</th>\n",
       "      <th>skugroup</th>\n",
       "      <th>shippedqty</th>\n",
       "    </tr>\n",
       "  </thead>\n",
       "  <tbody>\n",
       "    <tr>\n",
       "      <th>0</th>\n",
       "      <td>2021-01-02</td>\n",
       "      <td>APPAREL</td>\n",
       "      <td>1</td>\n",
       "    </tr>\n",
       "    <tr>\n",
       "      <th>1</th>\n",
       "      <td>2021-01-02</td>\n",
       "      <td>APPAREL</td>\n",
       "      <td>2</td>\n",
       "    </tr>\n",
       "    <tr>\n",
       "      <th>2</th>\n",
       "      <td>2021-01-02</td>\n",
       "      <td>APPAREL</td>\n",
       "      <td>2</td>\n",
       "    </tr>\n",
       "    <tr>\n",
       "      <th>3</th>\n",
       "      <td>2021-01-02</td>\n",
       "      <td>APPAREL</td>\n",
       "      <td>1</td>\n",
       "    </tr>\n",
       "    <tr>\n",
       "      <th>4</th>\n",
       "      <td>2021-01-02</td>\n",
       "      <td>APPAREL</td>\n",
       "      <td>2</td>\n",
       "    </tr>\n",
       "    <tr>\n",
       "      <th>5</th>\n",
       "      <td>2021-01-02</td>\n",
       "      <td>APPAREL</td>\n",
       "      <td>2</td>\n",
       "    </tr>\n",
       "    <tr>\n",
       "      <th>6</th>\n",
       "      <td>2021-01-02</td>\n",
       "      <td>APPAREL</td>\n",
       "      <td>2</td>\n",
       "    </tr>\n",
       "    <tr>\n",
       "      <th>7</th>\n",
       "      <td>2021-01-02</td>\n",
       "      <td>APPAREL</td>\n",
       "      <td>1</td>\n",
       "    </tr>\n",
       "    <tr>\n",
       "      <th>8</th>\n",
       "      <td>2021-01-02</td>\n",
       "      <td>APPAREL</td>\n",
       "      <td>1</td>\n",
       "    </tr>\n",
       "    <tr>\n",
       "      <th>9</th>\n",
       "      <td>2021-01-02</td>\n",
       "      <td>APPAREL</td>\n",
       "      <td>1</td>\n",
       "    </tr>\n",
       "  </tbody>\n",
       "</table>\n",
       "</div>"
      ],
      "text/plain": [
       "  deliverydate skugroup  shippedqty\n",
       "0   2021-01-02  APPAREL           1\n",
       "1   2021-01-02  APPAREL           2\n",
       "2   2021-01-02  APPAREL           2\n",
       "3   2021-01-02  APPAREL           1\n",
       "4   2021-01-02  APPAREL           2\n",
       "5   2021-01-02  APPAREL           2\n",
       "6   2021-01-02  APPAREL           2\n",
       "7   2021-01-02  APPAREL           1\n",
       "8   2021-01-02  APPAREL           1\n",
       "9   2021-01-02  APPAREL           1"
      ]
     },
     "execution_count": 4,
     "metadata": {},
     "output_type": "execute_result"
    }
   ],
   "source": [
    "del nike['region']\n",
    "del nike['dbid']\n",
    "del nike['storerkey']\n",
    "del nike['company']\n",
    "del nike['CustomerGroupName']\n",
    "del nike['MarketSegment']\n",
    "del nike['CountryOfOrigin']\n",
    "del nike['containertype']\n",
    "del nike['facility']\n",
    "del nike['descr']\n",
    "del nike['orderkey']\n",
    "del nike['style']\n",
    "del nike['sku']\n",
    "del nike['cube']\n",
    "del nike['weight']\n",
    "del nike['class']\n",
    "del nike['size']\n",
    "del nike['descr.1']\n",
    "del nike['uom']\n",
    "nike.head(10)"
   ]
  },
  {
   "cell_type": "code",
   "execution_count": 5,
   "id": "a082bbf7-b19f-41bf-aae0-dbd7173c9e06",
   "metadata": {},
   "outputs": [
    {
     "name": "stdout",
     "output_type": "stream",
     "text": [
      "Filter_skugroup: ['APPAREL' 'FOOTWEAR' 'EQUIPMENT']\n"
     ]
    }
   ],
   "source": [
    "Filter_skugroup=nike[\"skugroup\"].unique()\n",
    "print('Filter_skugroup:',Filter_skugroup)"
   ]
  },
  {
   "cell_type": "code",
   "execution_count": 6,
   "id": "eb03046f-ef22-4519-91fe-ffe213ca9306",
   "metadata": {},
   "outputs": [],
   "source": [
    "nike_APPAREL =nike.loc[nike['skugroup'] == 'APPAREL']\n",
    "nike_EQUIPMENT =nike.loc[nike['skugroup'] == 'EQUIPMENT']\n",
    "nike_FOOTWEAR =nike.loc[nike['skugroup'] == 'FOOTWEAR']\n",
    "del nike_APPAREL['skugroup']\n",
    "del nike_EQUIPMENT['skugroup']\n",
    "del nike_FOOTWEAR['skugroup']"
   ]
  },
  {
   "cell_type": "code",
   "execution_count": 7,
   "id": "f985fdae-20dc-40a0-955b-296879cf3907",
   "metadata": {},
   "outputs": [
    {
     "name": "stderr",
     "output_type": "stream",
     "text": [
      "/var/folders/tk/18btw3h93bq0rk_cn_55mh900000gn/T/ipykernel_60359/1036630415.py:2: SettingWithCopyWarning: \n",
      "A value is trying to be set on a copy of a slice from a DataFrame.\n",
      "Try using .loc[row_indexer,col_indexer] = value instead\n",
      "\n",
      "See the caveats in the documentation: https://pandas.pydata.org/pandas-docs/stable/user_guide/indexing.html#returning-a-view-versus-a-copy\n",
      "  nike_APPAREL['deliverydate']=pd.to_datetime(nike_APPAREL['deliverydate'])\n",
      "/var/folders/tk/18btw3h93bq0rk_cn_55mh900000gn/T/ipykernel_60359/1036630415.py:9: SettingWithCopyWarning: \n",
      "A value is trying to be set on a copy of a slice from a DataFrame.\n",
      "Try using .loc[row_indexer,col_indexer] = value instead\n",
      "\n",
      "See the caveats in the documentation: https://pandas.pydata.org/pandas-docs/stable/user_guide/indexing.html#returning-a-view-versus-a-copy\n",
      "  nike_EQUIPMENT['deliverydate']=pd.to_datetime(nike_EQUIPMENT['deliverydate'])\n",
      "/var/folders/tk/18btw3h93bq0rk_cn_55mh900000gn/T/ipykernel_60359/1036630415.py:16: SettingWithCopyWarning: \n",
      "A value is trying to be set on a copy of a slice from a DataFrame.\n",
      "Try using .loc[row_indexer,col_indexer] = value instead\n",
      "\n",
      "See the caveats in the documentation: https://pandas.pydata.org/pandas-docs/stable/user_guide/indexing.html#returning-a-view-versus-a-copy\n",
      "  nike_FOOTWEAR['deliverydate']=pd.to_datetime(nike_FOOTWEAR['deliverydate'])\n"
     ]
    }
   ],
   "source": [
    "#Apparel\n",
    "nike_APPAREL['deliverydate']=pd.to_datetime(nike_APPAREL['deliverydate'])\n",
    "nike_APPAREL_Groupped = nike_APPAREL.groupby(pd.Grouper(key='deliverydate', axis=0, freq='1D', sort=True))\n",
    "result_nike_APPAREL=nike_APPAREL_Groupped.sum()\n",
    "Finalresult_nike_APPAREL = result_nike_APPAREL[\"shippedqty\"].to_frame()\n",
    "Finaldateframe_nike_APPAREL=Finalresult_nike_APPAREL[~(Finalresult_nike_APPAREL==0).any(axis=1)]\n",
    "Finaldateframe_nike_APPAREL.reset_index()[['deliverydate', 'shippedqty']].to_csv('Appeal_outlier_dataset.csv',index=False)\n",
    "#Equipemnt\n",
    "nike_EQUIPMENT['deliverydate']=pd.to_datetime(nike_EQUIPMENT['deliverydate'])\n",
    "nike_EQUIPMENT_Groupped = nike_EQUIPMENT.groupby(pd.Grouper(key='deliverydate', axis=0, freq='1D', sort=True))\n",
    "result_nike_EQUIPMENT=nike_EQUIPMENT_Groupped.sum()\n",
    "Finalresult_nike_EQUIPMENT = result_nike_EQUIPMENT[\"shippedqty\"].to_frame()\n",
    "Finaldateframe_nike_EQUIPMENT=Finalresult_nike_EQUIPMENT[~(Finalresult_nike_EQUIPMENT==0).any(axis=1)]\n",
    "Finaldateframe_nike_EQUIPMENT.reset_index()[['deliverydate', 'shippedqty']].to_csv('EQUIPMENT_outlier_dataset.csv',index=False)\n",
    "#Footwear\n",
    "nike_FOOTWEAR['deliverydate']=pd.to_datetime(nike_FOOTWEAR['deliverydate'])\n",
    "nike_FOOTWEAR_Groupped = nike_FOOTWEAR.groupby(pd.Grouper(key='deliverydate', axis=0, freq='1D', sort=True))\n",
    "result_nike_FOOTWEAR=nike_FOOTWEAR_Groupped.sum()\n",
    "Finalresult_nike_FOOTWEAR = result_nike_FOOTWEAR[\"shippedqty\"].to_frame()\n",
    "Finaldateframe_nike_FOOTWEAR=Finalresult_nike_FOOTWEAR[~(Finalresult_nike_FOOTWEAR==0).any(axis=1)]\n",
    "Finaldateframe_nike_FOOTWEAR.reset_index()[['deliverydate', 'shippedqty']].to_csv('FOOTWEAR_outlier_dataset.csv',index=False)"
   ]
  },
  {
   "cell_type": "code",
   "execution_count": 8,
   "id": "498727c7-ca9d-41dd-94d5-8c50beda675a",
   "metadata": {},
   "outputs": [],
   "source": [
    "#APPAREL\n",
    "pf_APPAREL = pd.read_csv(\"Appeal_outlier_dataset.csv\")\n",
    "data_APPAREL=pf_APPAREL['shippedqty']\n",
    "#Equipemnt\n",
    "pf_Equipemnt = pd.read_csv(\"EQUIPMENT_outlier_dataset.csv\")\n",
    "data_Equipemnt=pf_Equipemnt['shippedqty']\n",
    "#FOOTWEAR\n",
    "pf_FOOTWEAR = pd.read_csv(\"FOOTWEAR_outlier_dataset.csv\")\n",
    "data_FOOTWEAR=pf_FOOTWEAR['shippedqty']"
   ]
  },
  {
   "cell_type": "code",
   "execution_count": 9,
   "id": "669f35e7-c6d8-46f1-9526-b361c01f29ea",
   "metadata": {},
   "outputs": [],
   "source": [
    "def Outiler(data):\n",
    "    median = statistics.median(data)\n",
    "    Q3 = (3/4)*median\n",
    "    Q1 = (1/4)*median\n",
    "    IQR = Q3-Q1\n",
    "    lower_outlier = Q1 - 1.5*IQR\n",
    "    higher_outlier = Q3 + 1.5*IQR\n",
    "    plt.boxplot(data)\n",
    "    plt.axhline(y=lower_outlier, color='blue', linestyle='-')\n",
    "    plt.axhline(y=higher_outlier, color='green', linestyle='-')\n",
    "    print('Q3:',Q3)\n",
    "    print('Q1:',Q1)\n",
    "    print('IQR:',IQR)\n",
    "    print('lower_outlier:',lower_outlier)\n",
    "    print('higher_outlier:',higher_outlier)\n",
    "    return Q1,Q3,IQR,lower_outlier,higher_outlier"
   ]
  },
  {
   "cell_type": "code",
   "execution_count": 14,
   "id": "0371ebd2-3fac-4211-a4b5-2984af4069b0",
   "metadata": {},
   "outputs": [
    {
     "name": "stdout",
     "output_type": "stream",
     "text": [
      "Q3: 5180.25\n",
      "Q1: 1726.75\n",
      "IQR: 3453.5\n",
      "lower_outlier: -3453.5\n",
      "higher_outlier: 10360.5\n",
      "Q3: 5180.25\n",
      "Q1: 1726.75\n",
      "IQR: 3453.5\n",
      "lower_outlier: -3453.5\n",
      "higher_outlier: 10360.5\n"
     ]
    },
    {
     "data": {
      "image/png": "[encoded data removed]",
      "text/plain": [
       "<Figure size 792x288 with 1 Axes>"
      ]
     },
     "metadata": {},
     "output_type": "display_data"
    }
   ],
   "source": [
    "data=data_APPAREL\n",
    "Outiler(data)\n",
    "Q1,Q3,IQR,lower_outlier,higher_outlier =Outiler(data)"
   ]
  },
  {
   "cell_type": "code",
   "execution_count": 17,
   "id": "393bda42-a301-4724-83f2-82b062d10b5a",
   "metadata": {},
   "outputs": [],
   "source": [
    "Q3_Appeal=Q3\n",
    "IQR_Appeal=IQR\n",
    "pf_APPAREL.loc[data > (Q3_Appeal + 1.5 * IQR_Appeal) ] = np.nan\n",
    "pf_APPAREL.to_csv('Appeal_outlier_dataset.csv',index=False)\n",
    "pf_APPAREL.dropna(axis = 0).to_csv('Appeal_outlier_dataset.csv',index=False)"
   ]
  },
  {
   "cell_type": "code",
   "execution_count": 18,
   "id": "dc833f9e-15c6-4735-960f-72d9aec1c537",
   "metadata": {},
   "outputs": [
    {
     "name": "stdout",
     "output_type": "stream",
     "text": [
      "Q3: 1431.0\n",
      "Q1: 477.0\n",
      "IQR: 954.0\n",
      "lower_outlier: -954.0\n",
      "higher_outlier: 2862.0\n",
      "Q3: 1431.0\n",
      "Q1: 477.0\n",
      "IQR: 954.0\n",
      "lower_outlier: -954.0\n",
      "higher_outlier: 2862.0\n"
     ]
    },
    {
     "data": {
      "image/png": "[encoded data removed]",
      "text/plain": [
       "<Figure size 792x288 with 1 Axes>"
      ]
     },
     "metadata": {},
     "output_type": "display_data"
    }
   ],
   "source": [
    "data=data_Equipemnt\n",
    "Outiler(data)\n",
    "Q1,Q3,IQR,lower_outlier,higher_outlier =Outiler(data)"
   ]
  },
  {
   "cell_type": "code",
   "execution_count": 20,
   "id": "6d5dc05a-fb27-4166-b760-fcf6645e402a",
   "metadata": {},
   "outputs": [],
   "source": [
    "Q3_EQUIPMENT=Q3\n",
    "IQR_EQUIPMENT=IQR\n",
    "pf_Equipemnt.loc[data > (Q3_EQUIPMENT + 1.5 * IQR_EQUIPMENT) ] = np.nan\n",
    "pf_Equipemnt.to_csv('EQUIPMENT_outlier_dataset.csv',index=False)\n",
    "pf_Equipemnt.dropna(axis = 0).to_csv('EQUIPMENT_outlier_dataset.csv',index=False)"
   ]
  },
  {
   "cell_type": "code",
   "execution_count": 21,
   "id": "af7fdd8f-8d6f-4efc-a47a-3d0eeb19d5d9",
   "metadata": {},
   "outputs": [
    {
     "name": "stdout",
     "output_type": "stream",
     "text": [
      "Q3: 7510.5\n",
      "Q1: 2503.5\n",
      "IQR: 5007.0\n",
      "lower_outlier: -5007.0\n",
      "higher_outlier: 15021.0\n",
      "Q3: 7510.5\n",
      "Q1: 2503.5\n",
      "IQR: 5007.0\n",
      "lower_outlier: -5007.0\n",
      "higher_outlier: 15021.0\n"
     ]
    },
    {
     "data": {
      "image/png": "[encoded data removed]",
      "text/plain": [
       "<Figure size 792x288 with 1 Axes>"
      ]
     },
     "metadata": {},
     "output_type": "display_data"
    }
   ],
   "source": [
    "data=data_FOOTWEAR\n",
    "Outiler(data)\n",
    "Q1,Q3,IQR,lower_outlier,higher_outlier =Outiler(data)"
   ]
  },
  {
   "cell_type": "code",
   "execution_count": 22,
   "id": "e95e9a5e-ed22-4fb5-b993-360885aca053",
   "metadata": {},
   "outputs": [],
   "source": [
    "Q3_FOOTWEAR=7510.5\n",
    "IQR_FOOTWEAR=5007.0\n",
    "pf_FOOTWEAR.loc[data > (Q3_FOOTWEAR+ 1.5 * IQR_FOOTWEAR) ] = np.nan\n",
    "pf_FOOTWEAR.to_csv('FOOTWEAR_outlier_dataset.csv',index=False)\n",
    "pf_FOOTWEAR.dropna(axis = 0).to_csv('FOOTWEAR_outlier_dataset.csv',index=False)"
   ]
  },
  {
   "cell_type": "code",
   "execution_count": null,
   "id": "fec182e9-050d-42cd-9051-1e8a7bbd75e4",
   "metadata": {},
   "outputs": [],
   "source": []
  }
 ],
 "metadata": {
  "kernelspec": {
   "display_name": "Python 3 (ipykernel)",
   "language": "python",
   "name": "python3"
  },
  "language_info": {
   "codemirror_mode": {
    "name": "ipython",
    "version": 3
   },
   "file_extension": ".py",
   "mimetype": "text/x-python",
   "name": "python",
   "nbconvert_exporter": "python",
   "pygments_lexer": "ipython3",
   "version": "3.9.7"
  }
 },
 "nbformat": 4,
 "nbformat_minor": 5
}
